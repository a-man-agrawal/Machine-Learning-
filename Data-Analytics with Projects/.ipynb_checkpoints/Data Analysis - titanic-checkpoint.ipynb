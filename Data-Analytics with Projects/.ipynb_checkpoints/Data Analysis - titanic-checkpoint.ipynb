{
 "cells": [
  {
   "cell_type": "markdown",
   "metadata": {
    "_cell_guid": "e52c9c50-80e4-1145-c627-071504b5ccf5"
   },
   "source": [
    "# Titanic Dataset Analysis\n",
    "\n",
    "## By: Nick Patil\n",
    "          14/12/2016"
   ]
  },
  {
   "cell_type": "markdown",
   "metadata": {
    "_cell_guid": "c06b098d-4c50-9a02-4c20-20af72bb87fb"
   },
   "source": [
    "**1. Data Parsing**\n",
    "---------------\n",
    "\n",
    "Import the libraries to read, plot and analyse the data"
   ]
  },
  {
   "cell_type": "code",
   "execution_count": 1,
   "metadata": {
    "_cell_guid": "d7f5e2ae-0c33-df70-e016-df1c1b976d2a"
   },
   "outputs": [],
   "source": [
    "import pandas as pd\n",
    "import numpy as np\n",
    "import matplotlib.pyplot as plt\n",
    "from matplotlib import style\n",
    "from sklearn.linear_model import LogisticRegression\n",
    "from sklearn.ensemble import RandomForestClassifier\n",
    "from sklearn.ensemble import ExtraTreesClassifier"
   ]
  },
  {
   "cell_type": "markdown",
   "metadata": {
    "_cell_guid": "33bcd28e-e94b-8e09-c7db-6ba60a07f27a"
   },
   "source": [
    "#**Use pandas to read the csv into the dataframe**"
   ]
  },
  {
   "cell_type": "code",
   "execution_count": 2,
   "metadata": {
    "_cell_guid": "01dc6ac3-94b9-a550-8acb-3c16407ffe5c"
   },
   "outputs": [],
   "source": [
    "titanic1=pd.read_csv(\"datasets/titanic/train.csv\")\n",
    "titanic2=pd.read_csv(\"datasets/titanic/test.csv\")"
   ]
  },
  {
   "cell_type": "markdown",
   "metadata": {
    "_cell_guid": "1ed1c75c-2b1a-7fa1-580c-9969a053629d"
   },
   "source": [
    "## Merge the two dataframes"
   ]
  },
  {
   "cell_type": "code",
   "execution_count": 3,
   "metadata": {
    "_cell_guid": "ca3077e4-2d28-2bbe-20eb-981b00f77f26"
   },
   "outputs": [],
   "source": [
    "titanic = pd.merge(titanic1, titanic2, how='outer')"
   ]
  },
  {
   "cell_type": "markdown",
   "metadata": {
    "_cell_guid": "ed5789ea-5d4d-7a3e-3d4c-9c9499244053"
   },
   "source": [
    "##Take an overview of the data"
   ]
  },
  {
   "cell_type": "code",
   "execution_count": 4,
   "metadata": {
    "_cell_guid": "50b9a95c-1668-b770-71cd-5fd01f4efe61"
   },
   "outputs": [
    {
     "data": {
      "text/html": [
       "<div>\n",
       "<style scoped>\n",
       "    .dataframe tbody tr th:only-of-type {\n",
       "        vertical-align: middle;\n",
       "    }\n",
       "\n",
       "    .dataframe tbody tr th {\n",
       "        vertical-align: top;\n",
       "    }\n",
       "\n",
       "    .dataframe thead th {\n",
       "        text-align: right;\n",
       "    }\n",
       "</style>\n",
       "<table border=\"1\" class=\"dataframe\">\n",
       "  <thead>\n",
       "    <tr style=\"text-align: right;\">\n",
       "      <th></th>\n",
       "      <th>PassengerId</th>\n",
       "      <th>Survived</th>\n",
       "      <th>Pclass</th>\n",
       "      <th>Name</th>\n",
       "      <th>Sex</th>\n",
       "      <th>Age</th>\n",
       "      <th>SibSp</th>\n",
       "      <th>Parch</th>\n",
       "      <th>Ticket</th>\n",
       "      <th>Fare</th>\n",
       "      <th>Cabin</th>\n",
       "      <th>Embarked</th>\n",
       "    </tr>\n",
       "  </thead>\n",
       "  <tbody>\n",
       "    <tr>\n",
       "      <th>0</th>\n",
       "      <td>1</td>\n",
       "      <td>0.0</td>\n",
       "      <td>3</td>\n",
       "      <td>Braund, Mr. Owen Harris</td>\n",
       "      <td>male</td>\n",
       "      <td>22.0</td>\n",
       "      <td>1</td>\n",
       "      <td>0</td>\n",
       "      <td>A/5 21171</td>\n",
       "      <td>7.2500</td>\n",
       "      <td>NaN</td>\n",
       "      <td>S</td>\n",
       "    </tr>\n",
       "    <tr>\n",
       "      <th>1</th>\n",
       "      <td>2</td>\n",
       "      <td>1.0</td>\n",
       "      <td>1</td>\n",
       "      <td>Cumings, Mrs. John Bradley (Florence Briggs Th...</td>\n",
       "      <td>female</td>\n",
       "      <td>38.0</td>\n",
       "      <td>1</td>\n",
       "      <td>0</td>\n",
       "      <td>PC 17599</td>\n",
       "      <td>71.2833</td>\n",
       "      <td>C85</td>\n",
       "      <td>C</td>\n",
       "    </tr>\n",
       "    <tr>\n",
       "      <th>2</th>\n",
       "      <td>3</td>\n",
       "      <td>1.0</td>\n",
       "      <td>3</td>\n",
       "      <td>Heikkinen, Miss. Laina</td>\n",
       "      <td>female</td>\n",
       "      <td>26.0</td>\n",
       "      <td>0</td>\n",
       "      <td>0</td>\n",
       "      <td>STON/O2. 3101282</td>\n",
       "      <td>7.9250</td>\n",
       "      <td>NaN</td>\n",
       "      <td>S</td>\n",
       "    </tr>\n",
       "    <tr>\n",
       "      <th>3</th>\n",
       "      <td>4</td>\n",
       "      <td>1.0</td>\n",
       "      <td>1</td>\n",
       "      <td>Futrelle, Mrs. Jacques Heath (Lily May Peel)</td>\n",
       "      <td>female</td>\n",
       "      <td>35.0</td>\n",
       "      <td>1</td>\n",
       "      <td>0</td>\n",
       "      <td>113803</td>\n",
       "      <td>53.1000</td>\n",
       "      <td>C123</td>\n",
       "      <td>S</td>\n",
       "    </tr>\n",
       "    <tr>\n",
       "      <th>4</th>\n",
       "      <td>5</td>\n",
       "      <td>0.0</td>\n",
       "      <td>3</td>\n",
       "      <td>Allen, Mr. William Henry</td>\n",
       "      <td>male</td>\n",
       "      <td>35.0</td>\n",
       "      <td>0</td>\n",
       "      <td>0</td>\n",
       "      <td>373450</td>\n",
       "      <td>8.0500</td>\n",
       "      <td>NaN</td>\n",
       "      <td>S</td>\n",
       "    </tr>\n",
       "  </tbody>\n",
       "</table>\n",
       "</div>"
      ],
      "text/plain": [
       "   PassengerId  Survived  Pclass  \\\n",
       "0            1       0.0       3   \n",
       "1            2       1.0       1   \n",
       "2            3       1.0       3   \n",
       "3            4       1.0       1   \n",
       "4            5       0.0       3   \n",
       "\n",
       "                                                Name     Sex   Age  SibSp  \\\n",
       "0                            Braund, Mr. Owen Harris    male  22.0      1   \n",
       "1  Cumings, Mrs. John Bradley (Florence Briggs Th...  female  38.0      1   \n",
       "2                             Heikkinen, Miss. Laina  female  26.0      0   \n",
       "3       Futrelle, Mrs. Jacques Heath (Lily May Peel)  female  35.0      1   \n",
       "4                           Allen, Mr. William Henry    male  35.0      0   \n",
       "\n",
       "   Parch            Ticket     Fare Cabin Embarked  \n",
       "0      0         A/5 21171   7.2500   NaN        S  \n",
       "1      0          PC 17599  71.2833   C85        C  \n",
       "2      0  STON/O2. 3101282   7.9250   NaN        S  \n",
       "3      0            113803  53.1000  C123        S  \n",
       "4      0            373450   8.0500   NaN        S  "
      ]
     },
     "execution_count": 4,
     "metadata": {},
     "output_type": "execute_result"
    }
   ],
   "source": [
    "\n",
    "titanic.head()"
   ]
  },
  {
   "cell_type": "code",
   "execution_count": 5,
   "metadata": {
    "_cell_guid": "0439bcf6-3318-f58d-f3e3-eebc29fb86c1"
   },
   "outputs": [
    {
     "name": "stdout",
     "output_type": "stream",
     "text": [
      "<class 'pandas.core.frame.DataFrame'>\n",
      "Int64Index: 1309 entries, 0 to 1308\n",
      "Data columns (total 12 columns):\n",
      " #   Column       Non-Null Count  Dtype  \n",
      "---  ------       --------------  -----  \n",
      " 0   PassengerId  1309 non-null   int64  \n",
      " 1   Survived     891 non-null    float64\n",
      " 2   Pclass       1309 non-null   int64  \n",
      " 3   Name         1309 non-null   object \n",
      " 4   Sex          1309 non-null   object \n",
      " 5   Age          1046 non-null   float64\n",
      " 6   SibSp        1309 non-null   int64  \n",
      " 7   Parch        1309 non-null   int64  \n",
      " 8   Ticket       1309 non-null   object \n",
      " 9   Fare         1308 non-null   float64\n",
      " 10  Cabin        295 non-null    object \n",
      " 11  Embarked     1307 non-null   object \n",
      "dtypes: float64(3), int64(4), object(5)\n",
      "memory usage: 132.9+ KB\n"
     ]
    }
   ],
   "source": [
    "titanic.info()"
   ]
  },
  {
   "cell_type": "markdown",
   "metadata": {
    "_cell_guid": "826c84f4-1df8-747b-6cc5-2ecff74ed902"
   },
   "source": [
    "### There are few missing values for Age, Cabin columns\n",
    "### Also Survived column has missing values for which we need to create a model for predictions"
   ]
  },
  {
   "cell_type": "code",
   "execution_count": 6,
   "metadata": {
    "_cell_guid": "e9f41f17-d321-e3cd-7034-fe8fbc42be38"
   },
   "outputs": [
    {
     "data": {
      "text/plain": [
       "array(['Braund, Mr. Owen Harris',\n",
       "       'Cumings, Mrs. John Bradley (Florence Briggs Thayer)',\n",
       "       'Heikkinen, Miss. Laina', ..., 'Saether, Mr. Simon Sivertsen',\n",
       "       'Ware, Mr. Frederick', 'Peter, Master. Michael J'], dtype=object)"
      ]
     },
     "execution_count": 6,
     "metadata": {},
     "output_type": "execute_result"
    }
   ],
   "source": [
    "# The name column can be splitted into more meaningful columns for better analysis \n",
    "titanic.Name.unique()"
   ]
  },
  {
   "cell_type": "code",
   "execution_count": 7,
   "metadata": {
    "_cell_guid": "10855767-2ccd-be54-63d0-116b746959e0"
   },
   "outputs": [
    {
     "name": "stdout",
     "output_type": "stream",
     "text": [
      "       Title       LastName                              FirstName\n",
      "0         Mr         Braund                            Owen Harris\n",
      "1        Mrs        Cumings  John Bradley (Florence Briggs Thayer)\n",
      "2       Miss      Heikkinen                                  Laina\n",
      "3        Mrs       Futrelle          Jacques Heath (Lily May Peel)\n",
      "4         Mr          Allen                          William Henry\n",
      "...      ...            ...                                    ...\n",
      "1304      Mr        Spector                                  Woolf\n",
      "1305    Dona  Oliva y Ocana                                Fermina\n",
      "1306      Mr        Saether                        Simon Sivertsen\n",
      "1307      Mr           Ware                              Frederick\n",
      "1308  Master          Peter                              Michael J\n",
      "\n",
      "[1309 rows x 3 columns]\n"
     ]
    }
   ],
   "source": [
    "# Lets seperate the titles from the name \n",
    "coltitle = titanic['Name'].apply(lambda s: pd.Series({'Title': s.split(',')[1].split('.')[0].strip(),\n",
    "                                                   'LastName':s.split(',')[0].strip(), 'FirstName':s.split(',')[1].split('.')[1].strip()}))\n",
    "print (coltitle)"
   ]
  },
  {
   "cell_type": "code",
   "execution_count": 8,
   "metadata": {
    "_cell_guid": "86c72f3f-479a-1795-06e6-816d5ac34899"
   },
   "outputs": [
    {
     "name": "stdout",
     "output_type": "stream",
     "text": [
      "   PassengerId  Survived  Pclass     Sex   Age  SibSp  Parch  \\\n",
      "0            1       0.0       3    male  22.0      1      0   \n",
      "1            2       1.0       1  female  38.0      1      0   \n",
      "2            3       1.0       3  female  26.0      0      0   \n",
      "3            4       1.0       1  female  35.0      1      0   \n",
      "4            5       0.0       3    male  35.0      0      0   \n",
      "\n",
      "             Ticket     Fare Cabin Embarked Title   LastName  \\\n",
      "0         A/5 21171   7.2500   NaN        S    Mr     Braund   \n",
      "1          PC 17599  71.2833   C85        C   Mrs    Cumings   \n",
      "2  STON/O2. 3101282   7.9250   NaN        S  Miss  Heikkinen   \n",
      "3            113803  53.1000  C123        S   Mrs   Futrelle   \n",
      "4            373450   8.0500   NaN        S    Mr      Allen   \n",
      "\n",
      "                               FirstName  \n",
      "0                            Owen Harris  \n",
      "1  John Bradley (Florence Briggs Thayer)  \n",
      "2                                  Laina  \n",
      "3          Jacques Heath (Lily May Peel)  \n",
      "4                          William Henry  \n"
     ]
    }
   ],
   "source": [
    "# Add the columns to the titanic dataframe\n",
    "titanic = pd.concat([titanic, coltitle], axis=1) \n",
    "# Drop the Name column\n",
    "titanic.drop('Name', axis=1, inplace=True)\n",
    "print (titanic.head())"
   ]
  },
  {
   "cell_type": "code",
   "execution_count": 9,
   "metadata": {
    "_cell_guid": "86891ab7-ed76-83f3-5238-25aa8906e9af"
   },
   "outputs": [
    {
     "data": {
      "text/plain": [
       "male      843\n",
       "female    466\n",
       "Name: Sex, dtype: int64"
      ]
     },
     "execution_count": 9,
     "metadata": {},
     "output_type": "execute_result"
    }
   ],
   "source": [
    "# Lets check the number of male and female\n",
    "titanic.Sex.value_counts()"
   ]
  },
  {
   "cell_type": "code",
   "execution_count": 10,
   "metadata": {
    "_cell_guid": "df205b60-b2a9-7f40-8e92-402aeb21fed2"
   },
   "outputs": [
    {
     "name": "stdout",
     "output_type": "stream",
     "text": [
      "['bmh', 'classic', 'dark_background', 'fast', 'fivethirtyeight', 'ggplot', 'grayscale', 'seaborn-bright', 'seaborn-colorblind', 'seaborn-dark-palette', 'seaborn-dark', 'seaborn-darkgrid', 'seaborn-deep', 'seaborn-muted', 'seaborn-notebook', 'seaborn-paper', 'seaborn-pastel', 'seaborn-poster', 'seaborn-talk', 'seaborn-ticks', 'seaborn-white', 'seaborn-whitegrid', 'seaborn', 'Solarize_Light2', 'tableau-colorblind10', '_classic_test']\n"
     ]
    }
   ],
   "source": [
    "# Lets set a style for all the plots\n",
    "print (style.available)\n",
    "style.use('classic')"
   ]
  },
  {
   "cell_type": "code",
   "execution_count": 11,
   "metadata": {
    "_cell_guid": "16b7f8f2-43ce-6aa0-52d4-8acf853e7f4d"
   },
   "outputs": [
    {
     "data": {
      "image/png": "[encoded data removed]",
      "text/plain": [
       "<Figure size 640x480 with 1 Axes>"
      ]
     },
     "metadata": {},
     "output_type": "display_data"
    }
   ],
   "source": [
    "# Lets plot the number of male and females on the ship\n",
    "titanic.Sex.value_counts().plot(kind='bar')\n",
    "plt.show()"
   ]
  },
  {
   "cell_type": "code",
   "execution_count": 12,
   "metadata": {
    "_cell_guid": "3a98c352-09fd-21cd-d873-c3811981ff16"
   },
   "outputs": [
    {
     "data": {
      "text/plain": [
       "0.0    549\n",
       "1.0    342\n",
       "Name: Survived, dtype: int64"
      ]
     },
     "execution_count": 12,
     "metadata": {},
     "output_type": "execute_result"
    }
   ],
   "source": [
    "# Lets check the number of casualties on the ship\n",
    "titanic.Survived.value_counts()"
   ]
  },
  {
   "cell_type": "code",
   "execution_count": 13,
   "metadata": {
    "_cell_guid": "2ec01d1a-a22f-1d5c-8c21-4eefb8999e07"
   },
   "outputs": [
    {
     "data": {
      "image/png": "[encoded data removed]",
      "text/plain": [
       "<Figure size 640x480 with 1 Axes>"
      ]
     },
     "metadata": {},
     "output_type": "display_data"
    }
   ],
   "source": [
    "# Lets plot the casualties\n",
    "titanic.Survived.value_counts().plot(kind='bar', title='Number of people survived [0 - Not Surv, 1 - Surv]\\n')\n",
    "plt.show()"
   ]
  },
  {
   "cell_type": "markdown",
   "metadata": {
    "_cell_guid": "897db8e1-4861-1791-6ded-344c463f4f84"
   },
   "source": [
    "## Lets now find number of passengers based on their Titles"
   ]
  },
  {
   "cell_type": "code",
   "execution_count": 14,
   "metadata": {
    "_cell_guid": "bb7a9057-3deb-725f-c2cb-d091b8968a57"
   },
   "outputs": [
    {
     "data": {
      "text/plain": [
       "array(['Mr', 'Mrs', 'Miss', 'Master', 'Don', 'Rev', 'Dr', 'Mme', 'Ms',\n",
       "       'Major', 'Lady', 'Sir', 'Mlle', 'Col', 'Capt', 'the Countess',\n",
       "       'Jonkheer', 'Dona'], dtype=object)"
      ]
     },
     "execution_count": 14,
     "metadata": {},
     "output_type": "execute_result"
    }
   ],
   "source": [
    "# We can use the title column to get an inside\n",
    "titanic.Title.unique()"
   ]
  },
  {
   "cell_type": "code",
   "execution_count": 15,
   "metadata": {
    "_cell_guid": "0fd7ee88-214b-21e2-71be-117858f93b20"
   },
   "outputs": [],
   "source": [
    "# Also reassign mlle, ms, and mme accordingly\n",
    "titanic.loc[titanic['Title']=='Mlle', 'Title']='Miss'.strip()\n",
    "titanic.loc[titanic['Title']=='Ms', 'Title']='Miss'.strip()\n",
    "titanic.loc[titanic['Title']=='Mme', 'Title']='Mrs'.strip()"
   ]
  },
  {
   "cell_type": "code",
   "execution_count": 16,
   "metadata": {
    "_cell_guid": "16ce69d3-c9a1-e07c-f2d0-9f0c7288b7e3"
   },
   "outputs": [
    {
     "name": "stdout",
     "output_type": "stream",
     "text": [
      "Sex     Title       \n",
      "female  Dona              1\n",
      "        Dr                1\n",
      "        Lady              1\n",
      "        Miss            264\n",
      "        Mrs             198\n",
      "        the Countess      1\n",
      "male    Capt              1\n",
      "        Col               4\n",
      "        Don               1\n",
      "        Dr                7\n",
      "        Jonkheer          1\n",
      "        Major             2\n",
      "        Master           61\n",
      "        Mr              757\n",
      "        Rev               8\n",
      "        Sir               1\n",
      "dtype: int64\n"
     ]
    }
   ],
   "source": [
    "# Get the count of female and male passengers based on titles\n",
    "tab = titanic.groupby(['Sex', 'Title']).size()\n",
    "print (tab)"
   ]
  },
  {
   "cell_type": "code",
   "execution_count": 17,
   "metadata": {
    "_cell_guid": "863b6955-7020-84f4-8fa7-8c714eb031a2"
   },
   "outputs": [
    {
     "name": "stdout",
     "output_type": "stream",
     "text": [
      "875\n"
     ]
    }
   ],
   "source": [
    "# Now lets get the count of unique surnames \n",
    "print (titanic.LastName.unique().shape[0])"
   ]
  },
  {
   "cell_type": "markdown",
   "metadata": {
    "_cell_guid": "a5cce618-802d-a126-8688-0770d305583f"
   },
   "source": [
    "##Total number of families on the ship"
   ]
  },
  {
   "cell_type": "code",
   "execution_count": 18,
   "metadata": {
    "_cell_guid": "a93cc561-51ca-5dac-51ee-cfbd10f70003"
   },
   "outputs": [],
   "source": [
    "titanic['total_members'] = titanic.SibSp + titanic.Parch + 1\n"
   ]
  },
  {
   "cell_type": "markdown",
   "metadata": {
    "_cell_guid": "e890a609-4885-19ad-0305-f7506f4fda6f"
   },
   "source": [
    "## Do families sink or swim together based on number of family members\n",
    "\n",
    "\n",
    "----------\n"
   ]
  },
  {
   "cell_type": "code",
   "execution_count": 19,
   "metadata": {
    "_cell_guid": "89665b02-ee81-b4aa-8220-2403551d77c3"
   },
   "outputs": [
    {
     "data": {
      "image/png": "[encoded data removed]",
      "text/plain": [
       "<Figure size 640x480 with 1 Axes>"
      ]
     },
     "metadata": {},
     "output_type": "display_data"
    }
   ],
   "source": [
    "survivor = titanic[['Survived', 'total_members']].groupby('total_members').mean()\n",
    "survivor.plot(kind='bar')\n",
    "plt.show()"
   ]
  },
  {
   "cell_type": "markdown",
   "metadata": {
    "_cell_guid": "cca35b77-dc81-a23d-dffb-6e8aeaeba522"
   },
   "source": [
    "##We can see that there’s a survival penalty to singletons and those with family sizes above 4¶\n"
   ]
  },
  {
   "cell_type": "code",
   "execution_count": 20,
   "metadata": {
    "_cell_guid": "30b2f662-f7a5-887e-1cd5-23cdeac7afdb"
   },
   "outputs": [
    {
     "data": {
      "text/plain": [
       "PassengerId         0\n",
       "Survived          418\n",
       "Pclass              0\n",
       "Sex                 0\n",
       "Age               263\n",
       "SibSp               0\n",
       "Parch               0\n",
       "Ticket              0\n",
       "Fare                1\n",
       "Cabin            1014\n",
       "Embarked            2\n",
       "Title               0\n",
       "LastName            0\n",
       "FirstName           0\n",
       "total_members       0\n",
       "dtype: int64"
      ]
     },
     "execution_count": 20,
     "metadata": {},
     "output_type": "execute_result"
    }
   ],
   "source": [
    "titanic.isnull().sum()"
   ]
  },
  {
   "cell_type": "markdown",
   "metadata": {
    "_cell_guid": "c17cb26d-4203-0f8b-001b-d9b117d6cc2b"
   },
   "source": [
    "##Drop unnecessary columns, these columns won't be useful in analysis and prediction"
   ]
  },
  {
   "cell_type": "code",
   "execution_count": 21,
   "metadata": {
    "_cell_guid": "374f9465-2cfd-cfe6-f580-45b18317e256"
   },
   "outputs": [],
   "source": [
    "# Drop the Ticket and Cabin column \n",
    "titanic.drop('Cabin', axis=1, inplace=True)\n",
    "titanic.drop('Ticket', axis=1, inplace=True)"
   ]
  },
  {
   "cell_type": "code",
   "execution_count": 22,
   "metadata": {
    "_cell_guid": "a15941f0-b572-7b03-bf41-e3cd9f87bd9a"
   },
   "outputs": [
    {
     "data": {
      "text/html": [
       "<div>\n",
       "<style scoped>\n",
       "    .dataframe tbody tr th:only-of-type {\n",
       "        vertical-align: middle;\n",
       "    }\n",
       "\n",
       "    .dataframe tbody tr th {\n",
       "        vertical-align: top;\n",
       "    }\n",
       "\n",
       "    .dataframe thead th {\n",
       "        text-align: right;\n",
       "    }\n",
       "</style>\n",
       "<table border=\"1\" class=\"dataframe\">\n",
       "  <thead>\n",
       "    <tr style=\"text-align: right;\">\n",
       "      <th></th>\n",
       "      <th>PassengerId</th>\n",
       "      <th>Survived</th>\n",
       "      <th>Pclass</th>\n",
       "      <th>Sex</th>\n",
       "      <th>Age</th>\n",
       "      <th>SibSp</th>\n",
       "      <th>Parch</th>\n",
       "      <th>Fare</th>\n",
       "      <th>Embarked</th>\n",
       "      <th>Title</th>\n",
       "      <th>LastName</th>\n",
       "      <th>FirstName</th>\n",
       "      <th>total_members</th>\n",
       "    </tr>\n",
       "  </thead>\n",
       "  <tbody>\n",
       "    <tr>\n",
       "      <th>1043</th>\n",
       "      <td>1044</td>\n",
       "      <td>NaN</td>\n",
       "      <td>3</td>\n",
       "      <td>male</td>\n",
       "      <td>60.5</td>\n",
       "      <td>0</td>\n",
       "      <td>0</td>\n",
       "      <td>NaN</td>\n",
       "      <td>S</td>\n",
       "      <td>Mr</td>\n",
       "      <td>Storey</td>\n",
       "      <td>Thomas</td>\n",
       "      <td>1</td>\n",
       "    </tr>\n",
       "  </tbody>\n",
       "</table>\n",
       "</div>"
      ],
      "text/plain": [
       "      PassengerId  Survived  Pclass   Sex   Age  SibSp  Parch  Fare Embarked  \\\n",
       "1043         1044       NaN       3  male  60.5      0      0   NaN        S   \n",
       "\n",
       "     Title LastName FirstName  total_members  \n",
       "1043    Mr   Storey    Thomas              1  "
      ]
     },
     "execution_count": 22,
     "metadata": {},
     "output_type": "execute_result"
    }
   ],
   "source": [
    "# There is one missing value in Fare\n",
    "titanic[titanic.Fare.isnull()==True]"
   ]
  },
  {
   "cell_type": "code",
   "execution_count": 23,
   "metadata": {
    "_cell_guid": "39a6ae4f-0f25-0ab9-a82b-650c4a47507b"
   },
   "outputs": [
    {
     "data": {
      "text/html": [
       "<div>\n",
       "<style scoped>\n",
       "    .dataframe tbody tr th:only-of-type {\n",
       "        vertical-align: middle;\n",
       "    }\n",
       "\n",
       "    .dataframe tbody tr th {\n",
       "        vertical-align: top;\n",
       "    }\n",
       "\n",
       "    .dataframe thead th {\n",
       "        text-align: right;\n",
       "    }\n",
       "</style>\n",
       "<table border=\"1\" class=\"dataframe\">\n",
       "  <thead>\n",
       "    <tr style=\"text-align: right;\">\n",
       "      <th></th>\n",
       "      <th>Fare</th>\n",
       "    </tr>\n",
       "    <tr>\n",
       "      <th>Pclass</th>\n",
       "      <th></th>\n",
       "    </tr>\n",
       "  </thead>\n",
       "  <tbody>\n",
       "    <tr>\n",
       "      <th>1</th>\n",
       "      <td>87.508992</td>\n",
       "    </tr>\n",
       "    <tr>\n",
       "      <th>2</th>\n",
       "      <td>21.179196</td>\n",
       "    </tr>\n",
       "    <tr>\n",
       "      <th>3</th>\n",
       "      <td>13.302889</td>\n",
       "    </tr>\n",
       "  </tbody>\n",
       "</table>\n",
       "</div>"
      ],
      "text/plain": [
       "             Fare\n",
       "Pclass           \n",
       "1       87.508992\n",
       "2       21.179196\n",
       "3       13.302889"
      ]
     },
     "execution_count": 23,
     "metadata": {},
     "output_type": "execute_result"
    }
   ],
   "source": [
    "titanic[['Pclass', 'Fare']].groupby('Pclass').mean()"
   ]
  },
  {
   "cell_type": "code",
   "execution_count": 24,
   "metadata": {
    "_cell_guid": "c513b1fd-9128-702f-593f-d2d0304d1eb6"
   },
   "outputs": [],
   "source": [
    "titanic.loc[titanic.PassengerId==1044.0, 'Fare']=13.30"
   ]
  },
  {
   "cell_type": "code",
   "execution_count": 25,
   "metadata": {
    "_cell_guid": "983c9738-01d6-2630-6dab-a93fb412960b"
   },
   "outputs": [
    {
     "data": {
      "text/plain": [
       "2"
      ]
     },
     "execution_count": 25,
     "metadata": {},
     "output_type": "execute_result"
    }
   ],
   "source": [
    "# Check the null values in Embarked column\n",
    "titanic.Embarked.isnull().sum()"
   ]
  },
  {
   "cell_type": "code",
   "execution_count": 26,
   "metadata": {
    "_cell_guid": "d502e80b-7b9a-b9d6-47be-12addca35e1d"
   },
   "outputs": [
    {
     "data": {
      "text/html": [
       "<div>\n",
       "<style scoped>\n",
       "    .dataframe tbody tr th:only-of-type {\n",
       "        vertical-align: middle;\n",
       "    }\n",
       "\n",
       "    .dataframe tbody tr th {\n",
       "        vertical-align: top;\n",
       "    }\n",
       "\n",
       "    .dataframe thead th {\n",
       "        text-align: right;\n",
       "    }\n",
       "</style>\n",
       "<table border=\"1\" class=\"dataframe\">\n",
       "  <thead>\n",
       "    <tr style=\"text-align: right;\">\n",
       "      <th></th>\n",
       "      <th>PassengerId</th>\n",
       "      <th>Survived</th>\n",
       "      <th>Pclass</th>\n",
       "      <th>Sex</th>\n",
       "      <th>Age</th>\n",
       "      <th>SibSp</th>\n",
       "      <th>Parch</th>\n",
       "      <th>Fare</th>\n",
       "      <th>Embarked</th>\n",
       "      <th>Title</th>\n",
       "      <th>LastName</th>\n",
       "      <th>FirstName</th>\n",
       "      <th>total_members</th>\n",
       "    </tr>\n",
       "  </thead>\n",
       "  <tbody>\n",
       "    <tr>\n",
       "      <th>61</th>\n",
       "      <td>62</td>\n",
       "      <td>1.0</td>\n",
       "      <td>1</td>\n",
       "      <td>female</td>\n",
       "      <td>38.0</td>\n",
       "      <td>0</td>\n",
       "      <td>0</td>\n",
       "      <td>80.0</td>\n",
       "      <td>NaN</td>\n",
       "      <td>Miss</td>\n",
       "      <td>Icard</td>\n",
       "      <td>Amelie</td>\n",
       "      <td>1</td>\n",
       "    </tr>\n",
       "    <tr>\n",
       "      <th>829</th>\n",
       "      <td>830</td>\n",
       "      <td>1.0</td>\n",
       "      <td>1</td>\n",
       "      <td>female</td>\n",
       "      <td>62.0</td>\n",
       "      <td>0</td>\n",
       "      <td>0</td>\n",
       "      <td>80.0</td>\n",
       "      <td>NaN</td>\n",
       "      <td>Mrs</td>\n",
       "      <td>Stone</td>\n",
       "      <td>George Nelson (Martha Evelyn)</td>\n",
       "      <td>1</td>\n",
       "    </tr>\n",
       "  </tbody>\n",
       "</table>\n",
       "</div>"
      ],
      "text/plain": [
       "     PassengerId  Survived  Pclass     Sex   Age  SibSp  Parch  Fare Embarked  \\\n",
       "61            62       1.0       1  female  38.0      0      0  80.0      NaN   \n",
       "829          830       1.0       1  female  62.0      0      0  80.0      NaN   \n",
       "\n",
       "    Title LastName                      FirstName  total_members  \n",
       "61   Miss    Icard                         Amelie              1  \n",
       "829   Mrs    Stone  George Nelson (Martha Evelyn)              1  "
      ]
     },
     "execution_count": 26,
     "metadata": {},
     "output_type": "execute_result"
    }
   ],
   "source": [
    "titanic[titanic['Embarked'].isnull() == True]"
   ]
  },
  {
   "cell_type": "markdown",
   "metadata": {
    "_cell_guid": "535c7769-032b-1f3a-be12-e60f152cf92e"
   },
   "source": [
    "## Impute missing value based on Survived column\n",
    "We see that they paid 80 dollars respectively and their classes are 1 and 1, also they survived. So lets try to find where they embarked from."
   ]
  },
  {
   "cell_type": "code",
   "execution_count": 27,
   "metadata": {
    "_cell_guid": "7edf535a-b3c3-34bc-4614-ff29da218eef"
   },
   "outputs": [
    {
     "data": {
      "text/html": [
       "<div>\n",
       "<style scoped>\n",
       "    .dataframe tbody tr th:only-of-type {\n",
       "        vertical-align: middle;\n",
       "    }\n",
       "\n",
       "    .dataframe tbody tr th {\n",
       "        vertical-align: top;\n",
       "    }\n",
       "\n",
       "    .dataframe thead th {\n",
       "        text-align: right;\n",
       "    }\n",
       "</style>\n",
       "<table border=\"1\" class=\"dataframe\">\n",
       "  <thead>\n",
       "    <tr style=\"text-align: right;\">\n",
       "      <th></th>\n",
       "      <th>Embarked</th>\n",
       "      <th>Survived</th>\n",
       "    </tr>\n",
       "  </thead>\n",
       "  <tbody>\n",
       "    <tr>\n",
       "      <th>0</th>\n",
       "      <td>C</td>\n",
       "      <td>0.553571</td>\n",
       "    </tr>\n",
       "    <tr>\n",
       "      <th>1</th>\n",
       "      <td>Q</td>\n",
       "      <td>0.389610</td>\n",
       "    </tr>\n",
       "    <tr>\n",
       "      <th>2</th>\n",
       "      <td>S</td>\n",
       "      <td>0.336957</td>\n",
       "    </tr>\n",
       "  </tbody>\n",
       "</table>\n",
       "</div>"
      ],
      "text/plain": [
       "  Embarked  Survived\n",
       "0        C  0.553571\n",
       "1        Q  0.389610\n",
       "2        S  0.336957"
      ]
     },
     "execution_count": 27,
     "metadata": {},
     "output_type": "execute_result"
    }
   ],
   "source": [
    "# Lets try to find the embark based on survived\n",
    "titanic[['Embarked', 'Survived']].groupby(['Embarked'],as_index=False).mean()"
   ]
  },
  {
   "cell_type": "markdown",
   "metadata": {
    "_cell_guid": "0d0d3223-78ea-2eb9-1836-ddac5b269352"
   },
   "source": [
    "We will go with C as the passengers survived and there is 55% chance for surviving with Embark C"
   ]
  },
  {
   "cell_type": "code",
   "execution_count": 28,
   "metadata": {
    "_cell_guid": "a0e99515-cdd7-096d-ace9-0d69e039b753"
   },
   "outputs": [
    {
     "data": {
      "text/html": [
       "<div>\n",
       "<style scoped>\n",
       "    .dataframe tbody tr th:only-of-type {\n",
       "        vertical-align: middle;\n",
       "    }\n",
       "\n",
       "    .dataframe tbody tr th {\n",
       "        vertical-align: top;\n",
       "    }\n",
       "\n",
       "    .dataframe thead th {\n",
       "        text-align: right;\n",
       "    }\n",
       "</style>\n",
       "<table border=\"1\" class=\"dataframe\">\n",
       "  <thead>\n",
       "    <tr style=\"text-align: right;\">\n",
       "      <th></th>\n",
       "      <th>Fare</th>\n",
       "    </tr>\n",
       "    <tr>\n",
       "      <th>Embarked</th>\n",
       "      <th></th>\n",
       "    </tr>\n",
       "  </thead>\n",
       "  <tbody>\n",
       "    <tr>\n",
       "      <th>C</th>\n",
       "      <td>62.336267</td>\n",
       "    </tr>\n",
       "    <tr>\n",
       "      <th>Q</th>\n",
       "      <td>12.409012</td>\n",
       "    </tr>\n",
       "    <tr>\n",
       "      <th>S</th>\n",
       "      <td>27.403377</td>\n",
       "    </tr>\n",
       "  </tbody>\n",
       "</table>\n",
       "</div>"
      ],
      "text/plain": [
       "               Fare\n",
       "Embarked           \n",
       "C         62.336267\n",
       "Q         12.409012\n",
       "S         27.403377"
      ]
     },
     "execution_count": 28,
     "metadata": {},
     "output_type": "execute_result"
    }
   ],
   "source": [
    "# Also lets try to find the fare based on Embarked \n",
    "titanic[['Embarked', 'Fare']].groupby('Embarked').mean()"
   ]
  },
  {
   "cell_type": "markdown",
   "metadata": {
    "_cell_guid": "ed186090-6632-dbf2-f832-e2be80242203"
   },
   "source": [
    "##The fare they paid is 80 dollars which is close to C, hence we can impute C as the missing value. "
   ]
  },
  {
   "cell_type": "code",
   "execution_count": 29,
   "metadata": {
    "_cell_guid": "57923b42-55d0-a4b7-150d-a8163be806ff"
   },
   "outputs": [],
   "source": [
    "# Imputting the missing value\n",
    "titanic.loc[titanic['Embarked'].isnull() == True, 'Embarked']='C'.strip()"
   ]
  },
  {
   "cell_type": "markdown",
   "metadata": {
    "_cell_guid": "8fe3a4c0-39be-cb07-347d-a678d35d3af5"
   },
   "source": [
    "## Check the missing values for Age"
   ]
  },
  {
   "cell_type": "code",
   "execution_count": 30,
   "metadata": {
    "_cell_guid": "e3af23b4-d268-16b6-3ca2-b4e8835b0fd2"
   },
   "outputs": [
    {
     "data": {
      "text/plain": [
       "263"
      ]
     },
     "execution_count": 30,
     "metadata": {},
     "output_type": "execute_result"
    }
   ],
   "source": [
    "titanic.Age.isnull().sum()"
   ]
  },
  {
   "cell_type": "code",
   "execution_count": 31,
   "metadata": {
    "_cell_guid": "8c618bf4-d26f-81b2-86b3-e5aed83e50b1"
   },
   "outputs": [
    {
     "data": {
      "image/png": "[encoded data removed]",
      "text/plain": [
       "<Figure size 640x480 with 1 Axes>"
      ]
     },
     "metadata": {},
     "output_type": "display_data"
    }
   ],
   "source": [
    "titanic.Age.plot(kind='hist')\n",
    "plt.show()"
   ]
  },
  {
   "cell_type": "markdown",
   "metadata": {
    "_cell_guid": "e7a3af52-4dbd-79e0-1b1c-a55563063d59"
   },
   "source": [
    "##  The Age can be predicted based on Sex, Title and Pclass of existing customer and imputting the median age value."
   ]
  },
  {
   "cell_type": "code",
   "execution_count": 32,
   "metadata": {
    "_cell_guid": "23f2b441-b8ad-51b4-8b7d-daca34746e01"
   },
   "outputs": [
    {
     "data": {
      "text/html": [
       "<div>\n",
       "<style scoped>\n",
       "    .dataframe tbody tr th:only-of-type {\n",
       "        vertical-align: middle;\n",
       "    }\n",
       "\n",
       "    .dataframe tbody tr th {\n",
       "        vertical-align: top;\n",
       "    }\n",
       "\n",
       "    .dataframe thead th {\n",
       "        text-align: right;\n",
       "    }\n",
       "</style>\n",
       "<table border=\"1\" class=\"dataframe\">\n",
       "  <thead>\n",
       "    <tr style=\"text-align: right;\">\n",
       "      <th></th>\n",
       "      <th></th>\n",
       "      <th></th>\n",
       "      <th>Age</th>\n",
       "    </tr>\n",
       "    <tr>\n",
       "      <th>Sex</th>\n",
       "      <th>Title</th>\n",
       "      <th>Pclass</th>\n",
       "      <th></th>\n",
       "    </tr>\n",
       "  </thead>\n",
       "  <tbody>\n",
       "    <tr>\n",
       "      <th rowspan=\"10\" valign=\"top\">female</th>\n",
       "      <th>Dona</th>\n",
       "      <th>1</th>\n",
       "      <td>39.0</td>\n",
       "    </tr>\n",
       "    <tr>\n",
       "      <th>Dr</th>\n",
       "      <th>1</th>\n",
       "      <td>49.0</td>\n",
       "    </tr>\n",
       "    <tr>\n",
       "      <th>Lady</th>\n",
       "      <th>1</th>\n",
       "      <td>48.0</td>\n",
       "    </tr>\n",
       "    <tr>\n",
       "      <th rowspan=\"3\" valign=\"top\">Miss</th>\n",
       "      <th>1</th>\n",
       "      <td>30.0</td>\n",
       "    </tr>\n",
       "    <tr>\n",
       "      <th>2</th>\n",
       "      <td>20.0</td>\n",
       "    </tr>\n",
       "    <tr>\n",
       "      <th>3</th>\n",
       "      <td>18.0</td>\n",
       "    </tr>\n",
       "    <tr>\n",
       "      <th rowspan=\"3\" valign=\"top\">Mrs</th>\n",
       "      <th>1</th>\n",
       "      <td>45.0</td>\n",
       "    </tr>\n",
       "    <tr>\n",
       "      <th>2</th>\n",
       "      <td>30.5</td>\n",
       "    </tr>\n",
       "    <tr>\n",
       "      <th>3</th>\n",
       "      <td>31.0</td>\n",
       "    </tr>\n",
       "    <tr>\n",
       "      <th>the Countess</th>\n",
       "      <th>1</th>\n",
       "      <td>33.0</td>\n",
       "    </tr>\n",
       "    <tr>\n",
       "      <th rowspan=\"15\" valign=\"top\">male</th>\n",
       "      <th>Capt</th>\n",
       "      <th>1</th>\n",
       "      <td>70.0</td>\n",
       "    </tr>\n",
       "    <tr>\n",
       "      <th>Col</th>\n",
       "      <th>1</th>\n",
       "      <td>54.5</td>\n",
       "    </tr>\n",
       "    <tr>\n",
       "      <th>Don</th>\n",
       "      <th>1</th>\n",
       "      <td>40.0</td>\n",
       "    </tr>\n",
       "    <tr>\n",
       "      <th rowspan=\"2\" valign=\"top\">Dr</th>\n",
       "      <th>1</th>\n",
       "      <td>47.0</td>\n",
       "    </tr>\n",
       "    <tr>\n",
       "      <th>2</th>\n",
       "      <td>38.5</td>\n",
       "    </tr>\n",
       "    <tr>\n",
       "      <th>Jonkheer</th>\n",
       "      <th>1</th>\n",
       "      <td>38.0</td>\n",
       "    </tr>\n",
       "    <tr>\n",
       "      <th>Major</th>\n",
       "      <th>1</th>\n",
       "      <td>48.5</td>\n",
       "    </tr>\n",
       "    <tr>\n",
       "      <th rowspan=\"3\" valign=\"top\">Master</th>\n",
       "      <th>1</th>\n",
       "      <td>6.0</td>\n",
       "    </tr>\n",
       "    <tr>\n",
       "      <th>2</th>\n",
       "      <td>2.0</td>\n",
       "    </tr>\n",
       "    <tr>\n",
       "      <th>3</th>\n",
       "      <td>6.0</td>\n",
       "    </tr>\n",
       "    <tr>\n",
       "      <th rowspan=\"3\" valign=\"top\">Mr</th>\n",
       "      <th>1</th>\n",
       "      <td>41.5</td>\n",
       "    </tr>\n",
       "    <tr>\n",
       "      <th>2</th>\n",
       "      <td>30.0</td>\n",
       "    </tr>\n",
       "    <tr>\n",
       "      <th>3</th>\n",
       "      <td>26.0</td>\n",
       "    </tr>\n",
       "    <tr>\n",
       "      <th>Rev</th>\n",
       "      <th>2</th>\n",
       "      <td>41.5</td>\n",
       "    </tr>\n",
       "    <tr>\n",
       "      <th>Sir</th>\n",
       "      <th>1</th>\n",
       "      <td>49.0</td>\n",
       "    </tr>\n",
       "  </tbody>\n",
       "</table>\n",
       "</div>"
      ],
      "text/plain": [
       "                             Age\n",
       "Sex    Title        Pclass      \n",
       "female Dona         1       39.0\n",
       "       Dr           1       49.0\n",
       "       Lady         1       48.0\n",
       "       Miss         1       30.0\n",
       "                    2       20.0\n",
       "                    3       18.0\n",
       "       Mrs          1       45.0\n",
       "                    2       30.5\n",
       "                    3       31.0\n",
       "       the Countess 1       33.0\n",
       "male   Capt         1       70.0\n",
       "       Col          1       54.5\n",
       "       Don          1       40.0\n",
       "       Dr           1       47.0\n",
       "                    2       38.5\n",
       "       Jonkheer     1       38.0\n",
       "       Major        1       48.5\n",
       "       Master       1        6.0\n",
       "                    2        2.0\n",
       "                    3        6.0\n",
       "       Mr           1       41.5\n",
       "                    2       30.0\n",
       "                    3       26.0\n",
       "       Rev          2       41.5\n",
       "       Sir          1       49.0"
      ]
     },
     "execution_count": 32,
     "metadata": {},
     "output_type": "execute_result"
    }
   ],
   "source": [
    "pd.pivot_table(titanic, index=['Sex', 'Title', 'Pclass'], values=['Age'], aggfunc='median')"
   ]
  },
  {
   "cell_type": "code",
   "execution_count": 33,
   "metadata": {
    "_cell_guid": "68037234-403c-08c3-13a4-924c4fb6cf05"
   },
   "outputs": [],
   "source": [
    "# a function that fills the missing values of the Age variable\n",
    "    \n",
    "def fillAges(row):\n",
    "    \n",
    "    if row['Sex']=='female' and row['Pclass'] == 1:\n",
    "        if row['Title'] == 'Miss':\n",
    "            return 29.5\n",
    "        elif row['Title'] == 'Mrs':\n",
    "            return 38.0\n",
    "        elif row['Title'] == 'Dr':\n",
    "            return 49.0\n",
    "        elif row['Title'] == 'Lady':\n",
    "            return 48.0\n",
    "        elif row['Title'] == 'the Countess':\n",
    "            return 33.0\n",
    "\n",
    "    elif row['Sex']=='female' and row['Pclass'] == 2:\n",
    "        if row['Title'] == 'Miss':\n",
    "            return 24.0\n",
    "        elif row['Title'] == 'Mrs':\n",
    "            return 32.0\n",
    "\n",
    "    elif row['Sex']=='female' and row['Pclass'] == 3:\n",
    "        \n",
    "        if row['Title'] == 'Miss':\n",
    "            return 9.0\n",
    "        elif row['Title'] == 'Mrs':\n",
    "            return 29.0\n",
    "\n",
    "    elif row['Sex']=='male' and row['Pclass'] == 1:\n",
    "        if row['Title'] == 'Master':\n",
    "            return 4.0\n",
    "        elif row['Title'] == 'Mr':\n",
    "            return 36.0\n",
    "        elif row['Title'] == 'Sir':\n",
    "            return 49.0\n",
    "        elif row['Title'] == 'Capt':\n",
    "            return 70.0\n",
    "        elif row['Title'] == 'Col':\n",
    "            return 58.0\n",
    "        elif row['Title'] == 'Don':\n",
    "            return 40.0\n",
    "        elif row['Title'] == 'Dr':\n",
    "            return 38.0\n",
    "        elif row['Title'] == 'Major':\n",
    "            return 48.5\n",
    "\n",
    "    elif row['Sex']=='male' and row['Pclass'] == 2:\n",
    "        if row['Title'] == 'Master':\n",
    "            return 1.0\n",
    "        elif row['Title'] == 'Mr':\n",
    "            return 30.0\n",
    "        elif row['Title'] == 'Dr':\n",
    "            return 38.5\n",
    "\n",
    "    elif row['Sex']=='male' and row['Pclass'] == 3:\n",
    "        if row['Title'] == 'Master':\n",
    "            return 4.0\n",
    "        elif row['Title'] == 'Mr':\n",
    "            return 22.0\n",
    "\n",
    "\n",
    "titanic['Age'] = titanic.apply(lambda s: fillAges(s) if np.isnan(s['Age']) else s['Age'], axis=1)\n"
   ]
  },
  {
   "cell_type": "markdown",
   "metadata": {
    "_cell_guid": "e33929cb-e72f-9d38-a3fd-28d25f2846d7"
   },
   "source": [
    "##Plot after imputting the missing values"
   ]
  },
  {
   "cell_type": "code",
   "execution_count": 34,
   "metadata": {
    "_cell_guid": "724cd9a6-4052-9d9d-5874-854d09ffb91e"
   },
   "outputs": [
    {
     "data": {
      "image/png": "[encoded data removed]",
      "text/plain": [
       "<Figure size 640x480 with 1 Axes>"
      ]
     },
     "metadata": {},
     "output_type": "display_data"
    }
   ],
   "source": [
    "titanic.Age.plot(kind='hist')\n",
    "plt.show()"
   ]
  },
  {
   "cell_type": "markdown",
   "metadata": {
    "_cell_guid": "6a6a1d8c-dffe-776e-80aa-49bca9aaf4da"
   },
   "source": [
    "# Prediction for Survived\n",
    "\n",
    "###Sex, Pclass, Age, Embarked, Kids, Mother, total_members"
   ]
  },
  {
   "cell_type": "code",
   "execution_count": 35,
   "metadata": {
    "_cell_guid": "35f8e806-3432-942c-7d1c-6f1d298c9b97"
   },
   "outputs": [
    {
     "name": "stdout",
     "output_type": "stream",
     "text": [
      "<class 'pandas.core.frame.DataFrame'>\n",
      "Int64Index: 1309 entries, 0 to 1308\n",
      "Data columns (total 13 columns):\n",
      " #   Column         Non-Null Count  Dtype  \n",
      "---  ------         --------------  -----  \n",
      " 0   PassengerId    1309 non-null   int64  \n",
      " 1   Survived       891 non-null    float64\n",
      " 2   Pclass         1309 non-null   int64  \n",
      " 3   Sex            1309 non-null   object \n",
      " 4   Age            1309 non-null   float64\n",
      " 5   SibSp          1309 non-null   int64  \n",
      " 6   Parch          1309 non-null   int64  \n",
      " 7   Fare           1309 non-null   float64\n",
      " 8   Embarked       1309 non-null   object \n",
      " 9   Title          1309 non-null   object \n",
      " 10  LastName       1309 non-null   object \n",
      " 11  FirstName      1309 non-null   object \n",
      " 12  total_members  1309 non-null   int64  \n",
      "dtypes: float64(3), int64(5), object(5)\n",
      "memory usage: 143.2+ KB\n"
     ]
    }
   ],
   "source": [
    "titanic.info()"
   ]
  },
  {
   "cell_type": "markdown",
   "metadata": {
    "_cell_guid": "40fcf367-cb06-3fc6-dc0d-06050294b4af"
   },
   "source": [
    "##Convert objects to numeric for predictions"
   ]
  },
  {
   "cell_type": "code",
   "execution_count": 36,
   "metadata": {
    "_cell_guid": "2293a6d7-27b3-155c-54eb-0779b96e06b6"
   },
   "outputs": [],
   "source": [
    "# Convert sex to 0 and 1 (Female and Male)\n",
    "def trans_sex(x):\n",
    "    if x == 'female':\n",
    "        return 0\n",
    "    else:\n",
    "        return 1\n",
    "titanic['Sex'] = titanic['Sex'].apply(trans_sex)\n",
    "\n",
    "# Convert Embarked to 1, 2, 3 (S, C, Q)\n",
    "def trans_embark(x):\n",
    "    if x == 'S':\n",
    "        return 3\n",
    "    if x == 'C':\n",
    "        return 2\n",
    "    if x == 'Q':\n",
    "        return 1\n",
    "titanic['Embarked'] = titanic['Embarked'].apply(trans_embark)    \n",
    "    "
   ]
  },
  {
   "cell_type": "code",
   "execution_count": 37,
   "metadata": {
    "_cell_guid": "f0c3a180-5574-9918-5354-ce8edadff705"
   },
   "outputs": [],
   "source": [
    "# Add a child and mother column for predicting survivals\n",
    "titanic['Child'] = 0\n",
    "titanic.loc[titanic['Age']<18.0, 'Child'] = 1\n",
    "titanic['Mother'] = 0\n",
    "titanic.loc[(titanic['Age']>18.0) & (titanic['Parch'] > 0.0) & (titanic['Sex']==0) & (titanic['Title']!='Miss'), 'Mother'] =1"
   ]
  },
  {
   "cell_type": "markdown",
   "metadata": {
    "_cell_guid": "ac89ecb3-251a-27eb-1862-81200dd6d1f9"
   },
   "source": [
    "##predict who survives among passengers of the Titanic based on variables that we carefully curated and treated for missing values"
   ]
  },
  {
   "cell_type": "code",
   "execution_count": 38,
   "metadata": {
    "_cell_guid": "6042a979-6dcb-5e07-e38a-ec0cef25947d"
   },
   "outputs": [
    {
     "data": {
      "text/plain": [
       "PassengerId        0\n",
       "Survived         418\n",
       "Pclass             0\n",
       "Sex                0\n",
       "Age                0\n",
       "SibSp              0\n",
       "Parch              0\n",
       "Fare               0\n",
       "Embarked           0\n",
       "Title              0\n",
       "LastName           0\n",
       "FirstName          0\n",
       "total_members      0\n",
       "Child              0\n",
       "Mother             0\n",
       "dtype: int64"
      ]
     },
     "execution_count": 38,
     "metadata": {},
     "output_type": "execute_result"
    }
   ],
   "source": [
    "titanic.isnull().sum()"
   ]
  },
  {
   "cell_type": "markdown",
   "metadata": {
    "_cell_guid": "942a4ee8-ffdb-a4f2-130f-38a66b94d4d2"
   },
   "source": [
    "##We divide the datasource into training and test data based on Null values in Survived column"
   ]
  },
  {
   "cell_type": "code",
   "execution_count": 39,
   "metadata": {
    "_cell_guid": "b53c7e4e-ea8a-5e59-902f-8504bdb84440"
   },
   "outputs": [],
   "source": [
    "# Feature selection for doing the predictions\n",
    "features_label = ['Pclass', 'Sex', 'Age', 'SibSp', 'Parch', 'Fare', 'Embarked', 'total_members', 'Child', 'Mother']\n",
    "target_label= ['Survived']\n",
    "train = titanic[titanic['Survived'].isnull()!= True]\n",
    "test = titanic[titanic['Survived'].isnull()== True]\n"
   ]
  },
  {
   "cell_type": "code",
   "execution_count": 40,
   "metadata": {
    "_cell_guid": "a4c04608-78e1-b6b3-eb1c-5d86333cd562"
   },
   "outputs": [
    {
     "name": "stdout",
     "output_type": "stream",
     "text": [
      "(891, 15)\n",
      "(418, 15)\n"
     ]
    }
   ],
   "source": [
    "print (train.shape)\n",
    "print (test.shape)"
   ]
  },
  {
   "cell_type": "markdown",
   "metadata": {
    "_cell_guid": "91c0a01b-0298-ad04-0ae2-49eb9ebfcca0"
   },
   "source": [
    "##Random Forest Regression "
   ]
  },
  {
   "cell_type": "code",
   "execution_count": 41,
   "metadata": {
    "_cell_guid": "d488ed01-b828-9e4b-182b-a55b3571476e"
   },
   "outputs": [
    {
     "name": "stderr",
     "output_type": "stream",
     "text": [
      "C:\\ProgramData\\Anaconda3\\lib\\site-packages\\ipykernel_launcher.py:3: DataConversionWarning: A column-vector y was passed when a 1d array was expected. Please change the shape of y to (n_samples,), for example using ravel().\n",
      "  This is separate from the ipykernel package so we can avoid doing imports until\n"
     ]
    },
    {
     "data": {
      "text/plain": [
       "0.978675645342312"
      ]
     },
     "execution_count": 41,
     "metadata": {},
     "output_type": "execute_result"
    }
   ],
   "source": [
    "random_forest = RandomForestClassifier(n_estimators=100)\n",
    "\n",
    "random_forest.fit(X=train[features_label], y=train[target_label])\n",
    "\n",
    "Y_pred = random_forest.predict(X=test[features_label])\n",
    "\n",
    "random_forest.score(X=train[features_label], y=train[target_label])"
   ]
  },
  {
   "cell_type": "markdown",
   "metadata": {
    "_cell_guid": "4e0fb280-d2a9-e3ad-3864-a675d31e3e09"
   },
   "source": [
    "##Using Logistic Regression to predict and imputing the predicted values into the Survived column with null values"
   ]
  },
  {
   "cell_type": "code",
   "execution_count": 42,
   "metadata": {
    "_cell_guid": "cf69e577-b431-0bb3-f61a-d5dce67c660a"
   },
   "outputs": [
    {
     "name": "stderr",
     "output_type": "stream",
     "text": [
      "C:\\ProgramData\\Anaconda3\\lib\\site-packages\\sklearn\\utils\\validation.py:760: DataConversionWarning: A column-vector y was passed when a 1d array was expected. Please change the shape of y to (n_samples, ), for example using ravel().\n",
      "  y = column_or_1d(y, warn=True)\n",
      "C:\\ProgramData\\Anaconda3\\lib\\site-packages\\sklearn\\linear_model\\_logistic.py:940: ConvergenceWarning: lbfgs failed to converge (status=1):\n",
      "STOP: TOTAL NO. of ITERATIONS REACHED LIMIT.\n",
      "\n",
      "Increase the number of iterations (max_iter) or scale the data as shown in:\n",
      "    https://scikit-learn.org/stable/modules/preprocessing.html\n",
      "Please also refer to the documentation for alternative solver options:\n",
      "    https://scikit-learn.org/stable/modules/linear_model.html#logistic-regression\n",
      "  extra_warning_msg=_LOGISTIC_SOLVER_CONVERGENCE_MSG)\n"
     ]
    },
    {
     "data": {
      "text/plain": [
       "0.8035914702581369"
      ]
     },
     "execution_count": 42,
     "metadata": {},
     "output_type": "execute_result"
    }
   ],
   "source": [
    "# Logistic Regression\n",
    "regr = LogisticRegression()\n",
    "regr.fit(X=train[features_label], y=train[target_label])\n",
    "regr.score(X=train[features_label], y=train[target_label])"
   ]
  },
  {
   "cell_type": "code",
   "execution_count": 43,
   "metadata": {
    "_cell_guid": "f905414a-5484-d796-caf0-4754a0acbf7f"
   },
   "outputs": [
    {
     "name": "stdout",
     "output_type": "stream",
     "text": [
      "[0. 0. 0. 0. 1. 0. 1. 0. 1. 0. 0. 0. 1. 0. 1. 1. 0. 0. 0. 0. 0. 0. 1. 1.\n",
      " 1. 0. 1. 0. 0. 0. 0. 0. 1. 1. 0. 0. 1. 1. 0. 0. 0. 0. 0. 1. 1. 0. 0. 0.\n",
      " 1. 1. 0. 0. 1. 1. 0. 0. 0. 0. 0. 1. 0. 0. 0. 1. 1. 1. 1. 0. 0. 1. 1. 0.\n",
      " 1. 1. 1. 1. 0. 1. 0. 1. 0. 0. 0. 0. 0. 0. 1. 1. 1. 0. 0. 0. 1. 0. 1. 0.\n",
      " 1. 0. 1. 0. 1. 0. 0. 0. 1. 0. 0. 0. 0. 0. 0. 1. 1. 1. 1. 0. 0. 1. 1. 1.\n",
      " 1. 0. 1. 0. 0. 1. 0. 1. 0. 0. 0. 0. 1. 0. 0. 0. 0. 0. 1. 0. 0. 1. 0. 0.\n",
      " 0. 0. 0. 0. 0. 0. 1. 0. 0. 1. 0. 0. 1. 1. 0. 1. 1. 0. 1. 0. 0. 1. 0. 0.\n",
      " 1. 1. 0. 0. 0. 0. 0. 1. 1. 0. 1. 1. 0. 0. 1. 0. 1. 0. 1. 0. 0. 0. 0. 0.\n",
      " 0. 0. 0. 0. 1. 1. 0. 1. 1. 0. 0. 1. 0. 0. 0. 0. 1. 0. 0. 0. 1. 0. 0. 0.\n",
      " 1. 0. 1. 0. 1. 0. 1. 0. 1. 1. 0. 1. 0. 0. 1. 1. 0. 0. 0. 0. 0. 0. 1. 1.\n",
      " 1. 1. 0. 0. 0. 0. 1. 0. 1. 0. 1. 0. 1. 0. 0. 0. 0. 0. 1. 0. 0. 0. 1. 1.\n",
      " 0. 0. 0. 0. 1. 0. 0. 0. 1. 1. 0. 1. 0. 0. 0. 0. 1. 0. 1. 1. 1. 0. 0. 0.\n",
      " 0. 0. 0. 1. 0. 0. 0. 0. 1. 0. 1. 0. 0. 0. 0. 0. 1. 1. 0. 0. 0. 0. 0. 0.\n",
      " 0. 0. 1. 1. 0. 0. 0. 0. 0. 0. 0. 0. 1. 0. 1. 0. 0. 0. 1. 0. 0. 1. 0. 1.\n",
      " 0. 0. 0. 0. 0. 0. 0. 1. 0. 1. 0. 0. 0. 1. 1. 0. 0. 0. 1. 0. 1. 0. 0. 0.\n",
      " 0. 1. 1. 0. 1. 0. 0. 1. 1. 0. 0. 1. 0. 0. 1. 1. 0. 0. 0. 0. 0. 0. 1. 1.\n",
      " 0. 1. 0. 0. 0. 0. 1. 1. 0. 0. 0. 1. 0. 1. 0. 0. 1. 0. 1. 1. 0. 0. 0. 0.\n",
      " 1. 1. 1. 1. 1. 0. 1. 0. 0. 0.]\n"
     ]
    }
   ],
   "source": [
    "# Predicted Values for Survived\n",
    "predict_t = regr.predict(X=test[features_label])\n",
    "print (predict_t)"
   ]
  },
  {
   "cell_type": "code",
   "execution_count": 44,
   "metadata": {
    "_cell_guid": "9c409c6d-f0da-be1f-979d-76295d1c8deb"
   },
   "outputs": [],
   "source": [
    "# Insert the predicted values for the missing rows for Survived column\n",
    "titanic.loc[titanic['Survived'].isnull()== True, 'Survived']= predict_t"
   ]
  },
  {
   "cell_type": "markdown",
   "metadata": {
    "_cell_guid": "ed744040-d213-2ae4-1da1-ec259883f3f6"
   },
   "source": [
    "##Extra Trees model for selecting Features based on importance"
   ]
  },
  {
   "cell_type": "code",
   "execution_count": 45,
   "metadata": {
    "_cell_guid": "1477fa95-91a5-4064-678f-ddf3dd7bc58d"
   },
   "outputs": [
    {
     "name": "stderr",
     "output_type": "stream",
     "text": [
      "C:\\ProgramData\\Anaconda3\\lib\\site-packages\\ipykernel_launcher.py:3: DataConversionWarning: A column-vector y was passed when a 1d array was expected. Please change the shape of y to (n_samples,), for example using ravel().\n",
      "  This is separate from the ipykernel package so we can avoid doing imports until\n"
     ]
    },
    {
     "name": "stdout",
     "output_type": "stream",
     "text": [
      "[0.10902229 0.28089668 0.20791036 0.03321963 0.02332444 0.22746375\n",
      " 0.03384629 0.03926505 0.03236545 0.01268607]\n"
     ]
    }
   ],
   "source": [
    "# fit an Extra Trees model to the data\n",
    "model = ExtraTreesClassifier()\n",
    "model.fit(X=train[features_label], y=train[target_label])\n",
    "# display the relative importance of each attribute\n",
    "importance = model.feature_importances_\n",
    "print (importance)"
   ]
  },
  {
   "cell_type": "code",
   "execution_count": 46,
   "metadata": {
    "_cell_guid": "58f2db00-fc7d-cf48-620a-668265b213eb"
   },
   "outputs": [
    {
     "name": "stdout",
     "output_type": "stream",
     "text": [
      "               importance\n",
      "feature                  \n",
      "Sex                 0.281\n",
      "Fare                0.227\n",
      "Age                 0.208\n",
      "Pclass              0.109\n",
      "total_members       0.039\n",
      "Embarked            0.034\n",
      "SibSp               0.033\n",
      "Child               0.032\n",
      "Parch               0.023\n",
      "Mother              0.013\n"
     ]
    },
    {
     "data": {
      "image/png": "[encoded data removed]",
      "text/plain": [
       "<Figure size 640x480 with 1 Axes>"
      ]
     },
     "metadata": {},
     "output_type": "display_data"
    }
   ],
   "source": [
    "# model is of type array, convert to type dataframe\n",
    "\n",
    "imp = pd.DataFrame({'feature':features_label,'importance':np.round(model.feature_importances_,3)})\n",
    "imp = imp.sort_values('importance',ascending=False).set_index('feature')\n",
    "print (imp)\n",
    "imp.plot.bar()\n",
    "plt.show()"
   ]
  },
  {
   "cell_type": "markdown",
   "metadata": {
    "_cell_guid": "9dfdf270-2c63-86e6-8991-d53b08c0f7b3"
   },
   "source": [
    "##passengers who survived based on sex, class, child and mothers"
   ]
  },
  {
   "cell_type": "code",
   "execution_count": 47,
   "metadata": {
    "_cell_guid": "a2958ff1-0396-e022-8e0c-921bca8c3d2c"
   },
   "outputs": [
    {
     "name": "stdout",
     "output_type": "stream",
     "text": [
      "\n",
      "The number of passengers based on Sex\n",
      "\n",
      "1    843\n",
      "0    466\n",
      "Name: Sex, dtype: int64\n",
      "\n",
      "The number of survivors based on Sex\n",
      "\n",
      "     Survived\n",
      "Sex          \n",
      "0       369.0\n",
      "1       123.0\n",
      "\n",
      "The number of passengers based on Pclass\n",
      "\n",
      "3    709\n",
      "1    323\n",
      "2    277\n",
      "Name: Pclass, dtype: int64\n",
      "\n",
      "The number of survivors based on Pclass\n",
      "\n",
      "        Survived\n",
      "Pclass          \n",
      "1          198.0\n",
      "2          118.0\n",
      "3          176.0\n",
      "\n",
      "The number of passengers who are Mother\n",
      "\n",
      "0    1224\n",
      "1      85\n",
      "Name: Mother, dtype: int64\n",
      "\n",
      "The number of survivors based on Mother\n",
      "\n",
      "        Survived\n",
      "Mother          \n",
      "0          424.0\n",
      "1           68.0\n"
     ]
    }
   ],
   "source": [
    "print (\"\\nThe number of passengers based on Sex\\n\")\n",
    "print (titanic['Sex'].value_counts()) \n",
    "\n",
    "print (\"\\nThe number of survivors based on Sex\\n\")\n",
    "print(titanic[['Survived', 'Sex']].groupby('Sex').sum()) \n",
    "\n",
    "print (\"\\nThe number of passengers based on Pclass\\n\")\n",
    "print (titanic['Pclass'].value_counts())\n",
    "       \n",
    "print(\"\\nThe number of survivors based on Pclass\\n\")\n",
    "print(titanic[['Survived', 'Pclass']].groupby('Pclass').sum()) \n",
    "\n",
    "print (\"\\nThe number of passengers who are Mother\\n\")\n",
    "print (titanic['Mother'].value_counts())\n",
    "       \n",
    "print (\"\\nThe number of survivors based on Mother\\n\")\n",
    "print (titanic[['Survived', 'Mother']].groupby('Mother').sum())"
   ]
  },
  {
   "cell_type": "markdown",
   "metadata": {
    "_cell_guid": "5acca14f-24c4-b424-fbb4-5be3f950d1c4"
   },
   "source": [
    "# Inferences\n",
    "### From the above more females survived then men, More of VIP Pclass(1) passengers survived then common passengers, Mother survivor is also high"
   ]
  },
  {
   "cell_type": "markdown",
   "metadata": {
    "_cell_guid": "d5732a14-63ae-6394-f197-51be665baee7"
   },
   "source": [
    "## Convert the columns to their string values"
   ]
  },
  {
   "cell_type": "code",
   "execution_count": 48,
   "metadata": {
    "_cell_guid": "c1ba1bb9-2d50-8d79-37db-8affd8a34744"
   },
   "outputs": [],
   "source": [
    "# Convert sex to 0 and 1 (Female and Male)\n",
    "def trans_sex(x):\n",
    "    if x == 0:\n",
    "        return 'female'\n",
    "    else:\n",
    "        return 'male'\n",
    "titanic['Sex'] = titanic['Sex'].apply(trans_sex)\n",
    "\n",
    "# Convert Embarked to 1, 2, 3 (S, C, Q)\n",
    "def trans_embark(x):\n",
    "    if x == 3:\n",
    "        return 'S'\n",
    "    if x == 2:\n",
    "        return 'C'\n",
    "    if x == 1:\n",
    "        return 'Q'\n",
    "titanic['Embarked'] = titanic['Embarked'].apply(trans_embark) "
   ]
  },
  {
   "cell_type": "markdown",
   "metadata": {
    "_cell_guid": "9b794b10-8df1-a48f-7627-230c5f38a509"
   },
   "source": [
    "## Export the data into a CSV file"
   ]
  },
  {
   "cell_type": "code",
   "execution_count": 49,
   "metadata": {
    "_cell_guid": "476cec89-6440-20b6-3e45-62a1e9586a4d"
   },
   "outputs": [],
   "source": [
    "titanic.to_csv('titanic.csv')"
   ]
  },
  {
   "cell_type": "markdown",
   "metadata": {
    "_cell_guid": "33a469f3-64ab-b0d3-681c-12efc69c64de"
   },
   "source": [
    "##Summary:\n",
    "Thanks Kaggle for the opportunity to do this project. As I am new to Data Science enjoyed doing it. \n",
    "Suggestions are welcome.\n"
   ]
  },
  {
   "cell_type": "code",
   "execution_count": null,
   "metadata": {
    "_cell_guid": "5dd2c23b-1225-cead-8a56-d648bf93fcae"
   },
   "outputs": [],
   "source": []
  }
 ],
 "metadata": {
  "_change_revision": 4,
  "_is_fork": false,
  "kernelspec": {
   "display_name": "Python 3",
   "language": "python",
   "name": "python3"
  },
  "language_info": {
   "codemirror_mode": {
    "name": "ipython",
    "version": 3
   },
   "file_extension": ".py",
   "mimetype": "text/x-python",
   "name": "python",
   "nbconvert_exporter": "python",
   "pygments_lexer": "ipython3",
   "version": "3.7.6"
  }
 },
 "nbformat": 4,
 "nbformat_minor": 1
}
