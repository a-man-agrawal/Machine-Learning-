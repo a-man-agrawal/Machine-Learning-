{
 "cells": [
  {
   "cell_type": "markdown",
   "metadata": {},
   "source": [
    "# Data Analysis Task by Genereux ALAHASSA"
   ]
  },
  {
   "cell_type": "markdown",
   "metadata": {},
   "source": [
    "## Do necessary imports (Please use Python 2.7)"
   ]
  },
  {
   "cell_type": "code",
   "execution_count": null,
   "metadata": {},
   "outputs": [],
   "source": [
    "import urllib\n",
    "import pandas as pd\n",
    "import numpy as np\n",
    "import gzip\n",
    "import matplotlib.pyplot as plt"
   ]
  },
  {
   "cell_type": "markdown",
   "metadata": {},
   "source": [
    "## Get data from Github repo and unzip"
   ]
  },
  {
   "cell_type": "code",
   "execution_count": null,
   "metadata": {},
   "outputs": [],
   "source": [
    "URL = 'https://github.com/wikimedia-research/Discovery-Hiring-Analyst-2016/raw/master/events_log.csv.gz'\n",
    "urllib.urlretrieve(URL, 'events_log.csv.gz')"
   ]
  },
  {
   "cell_type": "code",
   "execution_count": null,
   "metadata": {},
   "outputs": [],
   "source": [
    "events_log = gzip.open('events_log.csv.gz', 'rb')\n",
    "data = pd.read_csv(events_log)"
   ]
  },
  {
   "cell_type": "code",
   "execution_count": null,
   "metadata": {},
   "outputs": [],
   "source": [
    "#pd.options.display.float_format = '{:.0f}'.format\n",
    "#pd.reset_option(\"display.float_format\")\n",
    "data.head()"
   ]
  },
  {
   "cell_type": "markdown",
   "metadata": {},
   "source": [
    "## Format data\n",
    "### Delete not necessary columns"
   ]
  },
  {
   "cell_type": "code",
   "execution_count": null,
   "metadata": {},
   "outputs": [],
   "source": [
    "data.drop('uuid', axis=1, inplace=True)"
   ]
  },
  {
   "cell_type": "markdown",
   "metadata": {},
   "source": [
    "### Format timestamp column to 'YYYY-MM-DD hh:mm:ss'"
   ]
  },
  {
   "cell_type": "code",
   "execution_count": null,
   "metadata": {},
   "outputs": [],
   "source": [
    "def format_timestamp(timestamp):\n",
    "    timestamp = str(timestamp)\n",
    "    YYYY, MM, DD, hh, mm, ss = timestamp[:4], timestamp[4:6], timestamp[6:8], timestamp[8:10], timestamp[10:12], timestamp[12:]\n",
    "    return YYYY + '-' + MM + '-' + DD + ' ' + hh + ':' + mm + ':' + ss"
   ]
  },
  {
   "cell_type": "code",
   "execution_count": null,
   "metadata": {},
   "outputs": [],
   "source": [
    "data['timestamp'] = data['timestamp'].apply(lambda x : '{:.0f}'.format(float(x)))\n",
    "data['timestamp'] = data['timestamp'].apply(format_timestamp)\n",
    "data['timestamp'] = pd.to_datetime(data['timestamp'], format=\"%Y-%m-%d %H:%M:%S\")"
   ]
  },
  {
   "cell_type": "code",
   "execution_count": null,
   "metadata": {},
   "outputs": [],
   "source": [
    "data.head()"
   ]
  },
  {
   "cell_type": "markdown",
   "metadata": {},
   "source": [
    "### Extracting the date from the timestamp for the task purpose"
   ]
  },
  {
   "cell_type": "code",
   "execution_count": null,
   "metadata": {},
   "outputs": [],
   "source": [
    "data['date'] = np.array(map(lambda x: x.date(), data['timestamp']))\n",
    "#data['time'] = np.array(map(lambda x: x.time(), data['timestamp']))"
   ]
  },
  {
   "cell_type": "code",
   "execution_count": null,
   "metadata": {},
   "outputs": [],
   "source": [
    "data.head()"
   ]
  },
  {
   "cell_type": "markdown",
   "metadata": {},
   "source": [
    "## Task 1: What is the daily overall clickthrough rate? How does it vary between the groups?"
   ]
  },
  {
   "cell_type": "markdown",
   "metadata": {},
   "source": [
    "### Daily overall clickthrough rate\n",
    "<ol>\n",
    "<li>Select data where action = 'checkin' #We only care about sessions where users have clicked on a result</li>\n",
    "<li>Select distinct session_id by removing duplicates</li>\n",
    "<li>Group by date and count the number of sessions for each date</li>\n",
    "<li>Then take the mean which represent the daily overall clickthrough rate </li>\n",
    "</ol>"
   ]
  },
  {
   "cell_type": "code",
   "execution_count": null,
   "metadata": {},
   "outputs": [],
   "source": [
    "temp = data[(data.action == 'checkin')].drop_duplicates(subset='session_id').groupby('date').size().reset_index(name='counts')\n",
    "temp"
   ]
  },
  {
   "cell_type": "code",
   "execution_count": null,
   "metadata": {},
   "outputs": [],
   "source": [
    "daily_overall_clickthrough_rate = temp.mean()\n",
    "print(daily_overall_clickthrough_rate)"
   ]
  },
  {
   "cell_type": "markdown",
   "metadata": {},
   "source": [
    "### Daily overall clickthrough rate of group a\n",
    "<ol>\n",
    "<li>Select data where action = 'checkin' and group = 'a' #We only care about sessions where users have clicked on a result and users belong to group a</li>\n",
    "<li>Select distinct session_id by removing duplicates</li>\n",
    "<li>Group by date and count the number of sessions for each date</li>\n",
    "<li>Then take the mean which represent the daily overall clickthrough rate </li>\n",
    "</ol>"
   ]
  },
  {
   "cell_type": "code",
   "execution_count": null,
   "metadata": {},
   "outputs": [],
   "source": [
    "temp = data[(data.action == 'checkin') & (data.group == 'a')].drop_duplicates(subset='session_id').groupby('date').size().reset_index(name='counts')\n",
    "temp"
   ]
  },
  {
   "cell_type": "code",
   "execution_count": null,
   "metadata": {},
   "outputs": [],
   "source": [
    "groupa__daily_overall_clickthrough_rate = temp.mean()\n",
    "print(groupa__daily_overall_clickthrough_rate)"
   ]
  },
  {
   "cell_type": "markdown",
   "metadata": {},
   "source": [
    "### Daily overall clickthrough rate of group b\n",
    "<ol>\n",
    "<li>Select data where action = 'checkin' and group = 'b' #We only care about sessions where users have clicked on a result and users belong to group b</li>\n",
    "<li>Select distinct session_id by removing duplicates</li>\n",
    "<li>Group by date and count the number of sessions for each date</li>\n",
    "<li>Then take the mean which represent the daily overall clickthrough rate </li>\n",
    "</ol>"
   ]
  },
  {
   "cell_type": "code",
   "execution_count": null,
   "metadata": {},
   "outputs": [],
   "source": [
    "temp = data[(data.action == 'checkin') & (data.group == 'b')].drop_duplicates(subset='session_id').groupby('date').size().reset_index(name='counts')\n",
    "temp"
   ]
  },
  {
   "cell_type": "code",
   "execution_count": null,
   "metadata": {},
   "outputs": [],
   "source": [
    "groupb__daily_overall_clickthrough_rate = temp.mean()\n",
    "print(groupb__daily_overall_clickthrough_rate)"
   ]
  },
  {
   "cell_type": "markdown",
   "metadata": {},
   "source": [
    "## Task 2: Which results do people tend to try first? How does it change day-to-day? "
   ]
  },
  {
   "cell_type": "markdown",
   "metadata": {},
   "source": [
    "### Which results do people tend to try first?\n",
    "<ol>\n",
    "<li>Remove data where result_position are none</li>\n",
    "<li>Group by result_position</li>\n",
    "<li>Count the number of elements per group and sort in decreasing order</li>\n",
    "</ol>"
   ]
  },
  {
   "cell_type": "code",
   "execution_count": null,
   "metadata": {},
   "outputs": [],
   "source": [
    "temp = data[(data.result_position != None)].groupby('result_position').size().reset_index(name='counts').sort_values(by=['counts', 'result_position'], ascending=False)\n",
    "temp.head()"
   ]
  },
  {
   "cell_type": "markdown",
   "metadata": {},
   "source": [
    "### How does it change day-to-day? \n",
    "<ol>\n",
    "<li>Always remove data where result_position are none</li>\n",
    "<li>Group first by date and then by result_position</li>\n",
    "<li>Then count so we can see see the result_positions with their number of click for each date</li>\n",
    "<li>Take the first line of occurence for each date in order to see the result_position which has the highest number of click  </li>    \n",
    "</ol>"
   ]
  },
  {
   "cell_type": "code",
   "execution_count": null,
   "metadata": {
    "scrolled": false
   },
   "outputs": [],
   "source": [
    "temp = data[(data.result_position != None)].groupby(['date', 'result_position']).size().reset_index(name='counts')\n",
    "temp = temp.drop_duplicates(subset='date', keep='first', inplace=False)\n",
    "temp"
   ]
  },
  {
   "cell_type": "markdown",
   "metadata": {},
   "source": [
    "<p> As we can see, the result people tend to try first does not change between days. The first postion is the one users always\n",
    "tend to try first </p>"
   ]
  },
  {
   "cell_type": "markdown",
   "metadata": {},
   "source": [
    "## Task 3: What is the daily overall zero results rate? How does it vary between the groups?"
   ]
  },
  {
   "cell_type": "markdown",
   "metadata": {},
   "source": [
    "### Daily overall zero results rate\n",
    "<ol>\n",
    "<li>Select data where action = 'searchResultPage' and number of results = 0</li>\n",
    "<li>Group data by date and count</li>\n",
    "<li>Then take the mean</li>\n",
    "</ol>"
   ]
  },
  {
   "cell_type": "code",
   "execution_count": null,
   "metadata": {},
   "outputs": [],
   "source": [
    "temp = data[(data.action == 'searchResultPage') & (data.n_results == 0)].groupby('date').size().reset_index(name='counts')\n",
    "temp"
   ]
  },
  {
   "cell_type": "code",
   "execution_count": null,
   "metadata": {},
   "outputs": [],
   "source": [
    "daily_overall_zero_results_rate =  temp.mean()\n",
    "print(daily_overall_zero_results_rate)"
   ]
  },
  {
   "cell_type": "markdown",
   "metadata": {},
   "source": [
    "### Daily overall zero results rate of group a\n",
    "<ol>\n",
    "<li>Select data where action = 'searchResultPage' and number of results = 0 and group = 'a'</li>\n",
    "<li>Group data by date and count</li>\n",
    "<li>Then take the mean</li>\n",
    "</ol>"
   ]
  },
  {
   "cell_type": "code",
   "execution_count": null,
   "metadata": {},
   "outputs": [],
   "source": [
    "temp = data[(data.action == 'searchResultPage') & (data.n_results == 0) &  (data.group == 'a')].groupby('date').size().reset_index(name='counts')\n",
    "temp = temp.set_index('date')\n",
    "temp"
   ]
  },
  {
   "cell_type": "code",
   "execution_count": null,
   "metadata": {},
   "outputs": [],
   "source": [
    "groupa_daily_overall_zero_results_rate = temp.mean()\n",
    "print(groupa_daily_overall_zero_results_rate)"
   ]
  },
  {
   "cell_type": "markdown",
   "metadata": {},
   "source": [
    "### Daily overall zero results rate of group b\n",
    "<ol>\n",
    "<li>Select data where action = 'searchResultPage' and number of results = 0 and group = 'b'</li>\n",
    "<li>Group data by date and count</li>\n",
    "<li>Then take the mean</li>\n",
    "</ol>"
   ]
  },
  {
   "cell_type": "code",
   "execution_count": null,
   "metadata": {},
   "outputs": [],
   "source": [
    "temp = data[(data.action == 'searchResultPage') & (data.n_results == 0) &  (data.group == 'b')].groupby('date').size().reset_index(name='counts')\n",
    "temp = temp.set_index('date')\n",
    "temp"
   ]
  },
  {
   "cell_type": "code",
   "execution_count": null,
   "metadata": {},
   "outputs": [],
   "source": [
    "groupb_daily_overall_zero_results_rate = temp.mean() \n",
    "print(groupb_daily_overall_zero_results_rate)"
   ]
  },
  {
   "cell_type": "markdown",
   "metadata": {},
   "source": [
    "## Task 4: Relationship between the number of checkin per session and the session length"
   ]
  },
  {
   "cell_type": "code",
   "execution_count": null,
   "metadata": {},
   "outputs": [],
   "source": [
    "#We sort data by session_id then by timestamp to more easily compute the max-min timestamp for each session in order to get\n",
    "#the duration\n",
    "data = data.sort_values(by=['session_id', 'timestamp'])"
   ]
  },
  {
   "cell_type": "code",
   "execution_count": null,
   "metadata": {},
   "outputs": [],
   "source": [
    "#visualize data\n",
    "data.head()"
   ]
  },
  {
   "cell_type": "markdown",
   "metadata": {},
   "source": [
    "### Define a utility function 'get_session_infos' to extract the session length and the number of checkin for each sessions\n",
    "<h4>I choosed to the visualize the relationship between the number of checkin during a session and the session length</h4>"
   ]
  },
  {
   "cell_type": "code",
   "execution_count": null,
   "metadata": {},
   "outputs": [],
   "source": [
    "session_ids = np.array(list(set(data.session_id)))"
   ]
  },
  {
   "cell_type": "code",
   "execution_count": null,
   "metadata": {},
   "outputs": [],
   "source": [
    "session_ids.size"
   ]
  },
  {
   "cell_type": "code",
   "execution_count": null,
   "metadata": {},
   "outputs": [],
   "source": [
    "def get_session_infos(data, session_ids, size=-1):\n",
    "    '''\n",
    "    data: panda dataframe\n",
    "    session_ids: list of unique session ids\n",
    "    size: value to limit the number data points to get as the dataframe is too large. Computing for all sessions take several \n",
    "          times. Default value = -1: extract data for all sessions\n",
    "    '''\n",
    "    session_lengths, number_of_checkins = [], []\n",
    "    for session_id in session_ids:\n",
    "        #We get all data related to the session\n",
    "        temp = data[(data.session_id == session_id)]\n",
    "        \n",
    "        #and we compute session_length in seconds\n",
    "        session_length = (max(temp.timestamp) - min(temp.timestamp)).total_seconds()\n",
    "        \n",
    "        #Get the number of checkin of the session\n",
    "        count_checkins = len(temp[(temp.action=='checkin')].index)\n",
    "        session_lengths.append(session_length)\n",
    "        number_of_checkins.append(count_checkins)\n",
    "        size -= 1\n",
    "        if size==0:\n",
    "            break\n",
    "    return np.array(session_lengths), np.array(number_of_checkins)"
   ]
  },
  {
   "cell_type": "markdown",
   "metadata": {},
   "source": [
    "### Call get_session_infos on data. May take several times \n",
    "#### !!! Do not rerun this unless necessary as results are already saved in numpy files. May take several minutes to run"
   ]
  },
  {
   "cell_type": "code",
   "execution_count": null,
   "metadata": {},
   "outputs": [],
   "source": [
    "np.random.shuffle(session_ids)"
   ]
  },
  {
   "cell_type": "code",
   "execution_count": null,
   "metadata": {},
   "outputs": [],
   "source": [
    "#(x,y)=(session_lengths, number_of_checkins) are the values we are going to plot#size can go up to \n",
    "#size can go up to len(session_ids)\n",
    "session_lengths, number_of_checkins = get_session_infos(data, session_ids, size=session_ids.size/10)"
   ]
  },
  {
   "cell_type": "code",
   "execution_count": null,
   "metadata": {},
   "outputs": [],
   "source": [
    "print session_lengths, number_of_checkins"
   ]
  },
  {
   "cell_type": "markdown",
   "metadata": {},
   "source": [
    "#### We normalize data before plot  with : normalized x = (x - mean(x))/standard_deviation(x)"
   ]
  },
  {
   "cell_type": "code",
   "execution_count": null,
   "metadata": {},
   "outputs": [],
   "source": [
    "normalized_session_lengths = (session_lengths-np.mean(session_lengths))/np.std(session_lengths)\n",
    "normalized_number_of_checkins = (number_of_checkins-np.mean(number_of_checkins))/np.std(number_of_checkins)"
   ]
  },
  {
   "cell_type": "code",
   "execution_count": null,
   "metadata": {},
   "outputs": [],
   "source": [
    "print normalized_session_lengths, normalized_number_of_checkins"
   ]
  },
  {
   "cell_type": "code",
   "execution_count": null,
   "metadata": {},
   "outputs": [],
   "source": [
    "#We saved of x,y data points on the hard drive as computing them require several minutes.\n",
    "np.save('session_lengths.npy', session_lengths)\n",
    "np.save('number_of_checkins.npy', number_of_checkins)\n",
    "np.save('normalized_session_lengths.npy', normalized_session_lengths)\n",
    "np.save('normalized_number_of_checkins.npy', normalized_number_of_checkins)"
   ]
  },
  {
   "cell_type": "markdown",
   "metadata": {},
   "source": [
    "### Reload durations and number of results "
   ]
  },
  {
   "cell_type": "code",
   "execution_count": null,
   "metadata": {},
   "outputs": [],
   "source": [
    "normalized_session_lengths = np.load('normalized_session_lengths.npy')"
   ]
  },
  {
   "cell_type": "code",
   "execution_count": null,
   "metadata": {},
   "outputs": [],
   "source": [
    "normalized_number_of_checkins = np.load('normalized_number_of_checkins.npy')"
   ]
  },
  {
   "cell_type": "markdown",
   "metadata": {},
   "source": [
    "### Plot normalized_number_of_checkins = f(normalized_session_lengths) to visualize relationship"
   ]
  },
  {
   "cell_type": "code",
   "execution_count": null,
   "metadata": {},
   "outputs": [],
   "source": [
    "%matplotlib inline\n",
    "plt.figure(figsize=(20,10))\n",
    "plt.plot(normalized_session_lengths, normalized_number_of_checkins)\n",
    "plt.ylabel('Session length')\n",
    "plt.xlabel('Number of checkins')\n",
    "plt.show()"
   ]
  },
  {
   "cell_type": "markdown",
   "metadata": {},
   "source": [
    "# Executive summary"
   ]
  },
  {
   "cell_type": "markdown",
   "metadata": {},
   "source": [
    "<p> In summary, our findings are:\n",
    "    <ul>\n",
    "    <li>The <b>daily overall clickthrough rate </b> is 2912 search sessions per day (search session where user clicked) </li>\n",
    "    <li>The <b>daily overall clickthrough rate of group a</b> is 2185 search sessions per day (search sessions where user clicked) </li>\n",
    "    <li>The <b>daily overall clickthrough rate of group b</b> is 727 search sessions per day (search sessions where user clicked) </li>\n",
    "    <li>The <b>first result is   the result people always tend to try first</b>. It doesn't change between days</li>\n",
    "    <li>The <b>daily overall zero results rate</b> is 3141 search sessions per day (search sessions where user clicked) </li>\n",
    "    <li>The <b>daily overall zero results rate of group a</b> is 2113 search sessions per day (search sessions where user clicked) </li>\n",
    "    <li>The <b>daily overall zero results rate of group b</b> is 1028 search sessions per day (search sessions where user clicked) </li>\n",
    "    <li>With the plot above, we can say that <b>the number of checkins per session</b> varies almost linearly with <b>the session length</b>. The number of checkin increases with the length of the session and inversely. This is correct because more the user click on search result pages, more the session will last.</li>\n",
    "    </ul>\n",
    "</p>"
   ]
  },
  {
   "cell_type": "code",
   "execution_count": null,
   "metadata": {},
   "outputs": [],
   "source": []
  }
 ],
 "metadata": {
  "kernelspec": {
   "display_name": "Python 3",
   "language": "python",
   "name": "python3"
  },
  "language_info": {
   "codemirror_mode": {
    "name": "ipython",
    "version": 3
   },
   "file_extension": ".py",
   "mimetype": "text/x-python",
   "name": "python",
   "nbconvert_exporter": "python",
   "pygments_lexer": "ipython3",
   "version": "3.7.6"
  }
 },
 "nbformat": 4,
 "nbformat_minor": 2
}
